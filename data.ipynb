{
 "cells": [
  {
   "cell_type": "code",
   "execution_count": 1,
   "metadata": {},
   "outputs": [
    {
     "name": "stderr",
     "output_type": "stream",
     "text": [
      "/opt/conda/lib/python3.10/site-packages/tqdm/auto.py:21: TqdmWarning: IProgress not found. Please update jupyter and ipywidgets. See https://ipywidgets.readthedocs.io/en/stable/user_install.html\n",
      "  from .autonotebook import tqdm as notebook_tqdm\n",
      "Downloading readme: 100%|██████████| 481/481 [00:00<00:00, 2.69MB/s]\n",
      "Downloading data: 100%|██████████| 33.9M/33.9M [00:13<00:00, 2.47MB/s]\n",
      "Downloading data files: 100%|██████████| 1/1 [00:13<00:00, 13.73s/it]\n",
      "Extracting data files: 100%|██████████| 1/1 [00:00<00:00, 883.76it/s]\n",
      "Generating train split: 100%|██████████| 990/990 [00:00<00:00, 11302.51 examples/s]\n"
     ]
    }
   ],
   "source": [
    "from datasets import load_dataset\n",
    "\n",
    "dataset = load_dataset(\"chiragtubakad/chart-to-table\")"
   ]
  },
  {
   "cell_type": "code",
   "execution_count": 6,
   "metadata": {},
   "outputs": [
    {
     "data": {
      "text/plain": [
       "DatasetDict({\n",
       "    train: Dataset({\n",
       "        features: ['image', 'text'],\n",
       "        num_rows: 990\n",
       "    })\n",
       "})"
      ]
     },
     "execution_count": 6,
     "metadata": {},
     "output_type": "execute_result"
    }
   ],
   "source": [
    "train_datas"
   ]
  },
  {
   "cell_type": "code",
   "execution_count": 7,
   "metadata": {},
   "outputs": [
    {
     "name": "stderr",
     "output_type": "stream",
     "text": [
      "100%|██████████| 990/990 [00:24<00:00, 41.12it/s]\n"
     ]
    }
   ],
   "source": [
    "import os\n",
    "from PIL import Image\n",
    "import tqdm\n",
    "train_datas = dataset['train']\n",
    "train_save_path = './data/train'\n",
    "os.makedirs(os.path.join(train_save_path, 'png'), exist_ok=True)\n",
    "os.makedirs(os.path.join(train_save_path, 'txt'), exist_ok=True)\n",
    "for idx, data in enumerate(tqdm.tqdm(train_datas)):\n",
    "    image = data['image']\n",
    "    if image.mode == 'CMYK':\n",
    "        image = image.convert('RGB')\n",
    "    elif image.mode == 'L':\n",
    "        image = image.convert('RGB')\n",
    "    elif image.mode == 'RGBA':\n",
    "        print(1)\n",
    "        background = Image.new('RGB', image.size, (255, 255, 255))\n",
    "        background.paste(image, mask=image.split()[3])  # Alpha 채널을 mask로 사용\n",
    "        image = background\n",
    "    image.save(os.path.join(train_save_path, 'png', str(idx)+'.png'), 'PNG')\n",
    "    with open(os.path.join(train_save_path, 'txt', str(idx)+'.txt'), 'w') as f:\n",
    "        f.write(data['text'])"
   ]
  }
 ],
 "metadata": {
  "kernelspec": {
   "display_name": "base",
   "language": "python",
   "name": "python3"
  },
  "language_info": {
   "codemirror_mode": {
    "name": "ipython",
    "version": 3
   },
   "file_extension": ".py",
   "mimetype": "text/x-python",
   "name": "python",
   "nbconvert_exporter": "python",
   "pygments_lexer": "ipython3",
   "version": "3.10.13"
  }
 },
 "nbformat": 4,
 "nbformat_minor": 2
}
